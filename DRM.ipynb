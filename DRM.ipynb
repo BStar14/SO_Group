{
 "cells": [
  {
   "cell_type": "markdown",
   "id": "arranged-professor",
   "metadata": {},
   "source": [
    "# Solving Optimization Problem with Qiskit"
   ]
  },
  {
   "cell_type": "markdown",
   "id": "sunset-thousand",
   "metadata": {},
   "source": [
    "## Team name : SO group\n",
    "It means Special Optimizer group. Shortly we call ourselves SO group, because it looks like rotation group in physics.\n",
    "\n",
    "### Team members\n",
    "Kim BoSeong\n",
    "\n",
    "Choi KwangJun\n",
    "\n",
    "Kim HeeKang\n",
    "\n",
    "Choi JaeWon\n",
    "\n",
    "### Mentor\n",
    "Takashi Imamichi "
   ]
  },
  {
   "cell_type": "markdown",
   "id": "exposed-suggestion",
   "metadata": {},
   "source": [
    "## Delivery Reward Maximization\n",
    "__Delivery Reward Maximization(DRM)__ is a optimization problem. Suppose there are customers who want your goods. But you have limited time. Customers don't wait forever. Then how can you maximize your profit? __DRM__ will give you an answer.\n",
    "\n",
    "Before telling what __DRM__ is, define the problem mathematically. Let $V=\\{v_1,v_2,\\cdots,v_n\\}$ be the nodes, the customers, and $v_0$ be your store. Each customer has deadline $d(v_i)$ and reword $c(v_i)$. Your vehicle's speed is $s$. Path is denoted as edge. Weights of egdes $w(e_i,e_j)$ represent distance. There is also service time $t(v_i)$ that may represent the time needed to pass the goods. __DRM__ algorithm is hard. In this project, we consider a special case called __LDRM(Line Delivery Reward Maximization)__.\n",
    "\n",
    "We modified __LDRM__ little. Assume that $v_0$ is at origin and customers were numbered sequentially, that is, nodes will like this $v_0,v_1,v_2,\\cdots$. We added varibales $x_{11},x_{22},\\cdots$ which represent whether the solution ends at $v_i$ or not. Also set variables $x_{ij}$, which implies that airplane stop by $j$th airport whose final destination is $i$. We added a constraint that $\\sum\\limits_{j<i} x_{ij}-ix_{ii}\\leq 0$. Note that $x_{ii}$ is 1 if and only if the final destination is $i$. Then there are $i$ possible airport that airplane can stop by. So when $x_{ii}=0$, $x_{ij}$ is 0 for all $j$. Otherwise, airplane can choose airport before its destination."
   ]
  },
  {
   "cell_type": "markdown",
   "id": "hawaiian-simon",
   "metadata": {},
   "source": [
    "## Into a real problem\n",
    "Suppose the depot is in Incheon. You may deliver you goods by airplane. Since your goods require extremly cold environment, there is few airplane that can carry your goods. In this case, assume that only one airplane is available. Customers are in Shanghai, Hanoi and Suvarnabhmi. Roughly speaking, they are in a line fortunately. So this problem can be converted into __LDRM__."
   ]
  },
  {
   "cell_type": "code",
   "execution_count": 1,
   "id": "major-expense",
   "metadata": {},
   "outputs": [],
   "source": [
    "#Import packages to visualization\n",
    "from ipyleaflet import Map, AntPath, Marker\n",
    "from itertools import combinations"
   ]
  },
  {
   "cell_type": "code",
   "execution_count": 2,
   "id": "institutional-roller",
   "metadata": {
    "scrolled": true
   },
   "outputs": [
    {
     "data": {
      "application/vnd.jupyter.widget-view+json": {
       "model_id": "2c959af9fd7b40c09a89e511d3632563",
       "version_major": 2,
       "version_minor": 0
      },
      "text/plain": [
       "Map(center=[25.5, 122.037], controls=(ZoomControl(options=['position', 'zoom_in_text', 'zoom_in_title', 'zoom_…"
      ]
     },
     "metadata": {},
     "output_type": "display_data"
    }
   ],
   "source": [
    "#Instanciate map\n",
    "m = Map(center=(25.500, 122.037), zoom=3)\n",
    "\n",
    "#Longitude and latitude of airports\n",
    "locations = {\"INCHEON\" : (37.46035,126.44061),\"HANOI\" : (21.21791,105.78959),\"SHANGHAI\" : (31.19992,121.33644),\"SUVARNABHMI\":(13.69036,100.74884)}\n",
    "for location in locations.values():\n",
    "    m.add_layer(Marker(location=location, draggable=False));\n",
    "    \n",
    "#Add pathes\n",
    "for twoPoints in combinations(locations.values(),2):\n",
    "    m.add_layer(AntPath(locations=\n",
    "            [(twoPoints[0][0]+(twoPoints[1][0]-twoPoints[0][0])*i/10,twoPoints[0][1]+(twoPoints[1][1]-twoPoints[0][1])*i/10 ) for i in range(10)]\n",
    "            ,dash_array=[1, 10],delay=1000,color='#7590ba',pulse_color='#3f6fba'))\n",
    "\n",
    "m"
   ]
  },
  {
   "cell_type": "code",
   "execution_count": 3,
   "id": "addressed-original",
   "metadata": {},
   "outputs": [
    {
     "name": "stderr",
     "output_type": "stream",
     "text": [
      "configrc.store_credentials:WARNING:2021-02-19 03:54:46,246: Credentials already present. Set overwrite=True to overwrite.\n",
      "/home/ec2-user/anaconda3/envs/Braket/lib/python3.7/site-packages/qiskit/providers/ibmq/ibmqfactory.py:192: UserWarning: Timestamps in IBMQ backend properties, jobs, and job results are all now in local time instead of UTC.\n",
      "  warnings.warn('Timestamps in IBMQ backend properties, jobs, and job results '\n"
     ]
    }
   ],
   "source": [
    "%matplotlib inline\n",
    "# Importing standard Qiskit libraries\n",
    "from qiskit.circuit.library import RealAmplitudes\n",
    "from qiskit import QuantumCircuit, execute, Aer, IBMQ, BasicAer\n",
    "from qiskit.compiler import transpile, assemble\n",
    "from qiskit.tools.jupyter import *\n",
    "from qiskit.visualization import *\n",
    "from qiskit.optimization import *\n",
    "from qiskit.optimization.converters import *\n",
    "from qiskit.optimization.algorithms import *\n",
    "from qiskit.aqua import *\n",
    "from qiskit.aqua.algorithms import *\n",
    "from qiskit.aqua.operators import *\n",
    "from qiskit.aqua.components.optimizers import COBYLA\n",
    "\n",
    "import matplotlib.pyplot as plt\n",
    "import numpy as np\n",
    "from docplex.mp.model import Model\n",
    "from qiskit import IBMQ\n",
    "import pickle\n",
    "with open('token.txt','rb') as file:\n",
    "    token = pickle.load(file)\n",
    "IBMQ.save_account(token)\n",
    "provider = IBMQ.load_account()"
   ]
  },
  {
   "cell_type": "code",
   "execution_count": 4,
   "id": "municipal-blackberry",
   "metadata": {},
   "outputs": [
    {
     "name": "stdout",
     "output_type": "stream",
     "text": [
      "\\ This file has been generated by DOcplex\n",
      "\\ ENCODING=ISO-8859-1\n",
      "\\Problem name: CPLEX\n",
      "\n",
      "Maximize\n",
      " obj: 3 x11 + 3 x21 + 5 x22 + 3 x31 + 5 x32 + 2 x33\n",
      "Subject To\n",
      " select_i: x11 + x22 + x33 = 1\n",
      " x2cons: x21 - x22 <= 0\n",
      " x3cons: x31 + x32 - 2 x33 <= 0\n",
      " deadline: 2 x11 + x21 + 5 x22 + x31 + 3 x32 + 5 x33 <= 7\n",
      "\n",
      "Bounds\n",
      " 0 <= x11 <= 1\n",
      " 0 <= x21 <= 1\n",
      " 0 <= x22 <= 1\n",
      " 0 <= x31 <= 1\n",
      " 0 <= x32 <= 1\n",
      " 0 <= x33 <= 1\n",
      "\n",
      "Binaries\n",
      " x11 x21 x22 x31 x32 x33\n",
      "End\n",
      "\n"
     ]
    }
   ],
   "source": [
    "qp = QuadraticProgram()\n",
    "c = [3, 5, 2]\n",
    "t = [1, 3, 2]\n",
    "D = 7\n",
    "D_temp = [1, 2, 3]\n",
    "for i in range(3):\n",
    "    for j in range(i+1):\n",
    "        qp.binary_var('x'+f'{i+1}{j+1}')\n",
    "\n",
    "qp.maximize(linear={'x11':c[0], 'x21':c[0], 'x22':c[1], \"x31\":c[0], 'x32':c[1],'x33':c[2]})\n",
    "qp.linear_constraint(linear={'x11':1, 'x22':1, 'x33':1}, sense='E', rhs=1, name='select_i')\n",
    "qp.linear_constraint(linear={'x21':1, 'x22':-1}, sense='L', rhs=0, name='x2cons')\n",
    "qp.linear_constraint(linear={'x31':1, 'x32':1, 'x33':-2}, sense='L', rhs=0, name='x3cons')\n",
    "qp.linear_constraint(linear={'x11':t[0]+D_temp[0], 'x21':t[0], 'x22':t[1]+D_temp[1], \"x31\":t[0], 'x32':t[1],'x33':t[2]+D_temp[2]}, sense='LE', rhs=D, name='deadline')\n",
    "print(qp.export_as_lp_string())"
   ]
  },
  {
   "cell_type": "code",
   "execution_count": 5,
   "id": "protective-metro",
   "metadata": {},
   "outputs": [
    {
     "data": {
      "image/png": "[encoded data removed]",
      "text/plain": [
       "<Figure size 432x288 with 1 Axes>"
      ]
     },
     "metadata": {},
     "output_type": "display_data"
    }
   ],
   "source": [
    "import networkx as nx\n",
    "import matplotlib.pyplot as plt\n",
    "%matplotlib inline\n",
    "\n",
    "# vertices\n",
    "v = range(3)\n",
    "\n",
    "# edges\n",
    "e_n = range(3)\n",
    "e = [[0, 1], [1, 2], [2, 0]]\n",
    "# Makes graph\n",
    "G = nx.Graph()\n",
    "\n",
    "# Add nodes from vertices\n",
    "G.add_nodes_from(v)\n",
    "for i in v:\n",
    "    G.nodes[i]['reward'] = c[i]\n",
    "    G.nodes[i]['service_time'] = t[i]\n",
    "\n",
    "# Since graph automatically appreciate weight as strongness of connection : used 1/weight\n",
    "G.add_edges_from(e)\n",
    "for i in e_n:\n",
    "    G.edges[e[i]]['weight'] = 1/D_temp[i]\n",
    "\n",
    "# Plot\n",
    "plt.plot()\n",
    "\n",
    "# Get position : seed makes the specific formation (just random integer) (editable)\n",
    "pos = nx.spring_layout(G, seed=6)\n",
    "nx.draw(G, pos, with_labels=True, font_weight='bold')\n",
    "\n",
    "# Add reward and service time text\n",
    "for i in v:\n",
    "    pos_x, pos_y=pos[i]\n",
    "    plt.text(pos_x, pos_y+0.1, s='service time = '+str(t[i]), horizontalalignment='center')\n",
    "    plt.text(pos_x, pos_y+0.2, s='reward = '+str(c[i]), horizontalalignment='center')\n",
    "\n",
    "# Add weight text\n",
    "edge_labels = nx.get_edge_attributes(G, 'weight')\n",
    "for key, value in edge_labels.items():\n",
    "    edge_labels[key] = 1 / value\n",
    "nx.draw_networkx_edge_labels(G, pos, edge_labels=edge_labels)\n",
    "\n",
    "# Plot\n",
    "plt.show()"
   ]
  },
  {
   "cell_type": "code",
   "execution_count": 6,
   "id": "lovely-robert",
   "metadata": {},
   "outputs": [
    {
     "name": "stdout",
     "output_type": "stream",
     "text": [
      "\\ This file has been generated by DOcplex\n",
      "\\ ENCODING=ISO-8859-1\n",
      "\\Problem name: CPLEX\n",
      "\n",
      "Maximize\n",
      " obj: 3 x11 + 3 x21 + 5 x22 + 3 x31 + 5 x32 + 2 x33\n",
      "Subject To\n",
      " select_i: x11 + x22 + x33 = 1\n",
      " x2cons: x21 - x22 + x2cons@int_slack = 0\n",
      " x3cons: x31 + x32 - 2 x33 + x3cons@int_slack = 0\n",
      " deadline: 2 x11 + x21 + 5 x22 + x31 + 3 x32 + 5 x33 + deadline@int_slack = 7\n",
      "\n",
      "Bounds\n",
      " 0 <= x11 <= 1\n",
      " 0 <= x21 <= 1\n",
      " 0 <= x22 <= 1\n",
      " 0 <= x31 <= 1\n",
      " 0 <= x32 <= 1\n",
      " 0 <= x33 <= 1\n",
      "       x2cons@int_slack <= 1\n",
      "       x3cons@int_slack <= 2\n",
      "       deadline@int_slack <= 7\n",
      "\n",
      "Binaries\n",
      " x11 x21 x22 x31 x32 x33\n",
      "\n",
      "Generals\n",
      " x2cons@int_slack x3cons@int_slack deadline@int_slack\n",
      "End\n",
      "\n"
     ]
    }
   ],
   "source": [
    "ineq2eq = InequalityToEquality()\n",
    "qp_eq = ineq2eq.convert(qp)\n",
    "print(qp_eq.export_as_lp_string())"
   ]
  },
  {
   "cell_type": "code",
   "execution_count": 7,
   "id": "classical-romantic",
   "metadata": {},
   "outputs": [
    {
     "name": "stdout",
     "output_type": "stream",
     "text": [
      "\\ This file has been generated by DOcplex\n",
      "\\ ENCODING=ISO-8859-1\n",
      "\\Problem name: CPLEX\n",
      "\n",
      "Maximize\n",
      " obj: 3 x11 + 3 x21 + 5 x22 + 3 x31 + 5 x32 + 2 x33\n",
      "Subject To\n",
      " select_i: x11 + x22 + x33 = 1\n",
      " x2cons: x21 - x22 + x2cons@int_slack@0 = 0\n",
      " x3cons: x31 + x32 - 2 x33 + x3cons@int_slack@0 + x3cons@int_slack@1 = 0\n",
      " deadline: 2 x11 + x21 + 5 x22 + x31 + 3 x32 + 5 x33 + deadline@int_slack@0\n",
      "           + 2 deadline@int_slack@1 + 4 deadline@int_slack@2 = 7\n",
      "\n",
      "Bounds\n",
      " 0 <= x11 <= 1\n",
      " 0 <= x21 <= 1\n",
      " 0 <= x22 <= 1\n",
      " 0 <= x31 <= 1\n",
      " 0 <= x32 <= 1\n",
      " 0 <= x33 <= 1\n",
      " 0 <= x2cons@int_slack@0 <= 1\n",
      " 0 <= x3cons@int_slack@0 <= 1\n",
      " 0 <= x3cons@int_slack@1 <= 1\n",
      " 0 <= deadline@int_slack@0 <= 1\n",
      " 0 <= deadline@int_slack@1 <= 1\n",
      " 0 <= deadline@int_slack@2 <= 1\n",
      "\n",
      "Binaries\n",
      " x11 x21 x22 x31 x32 x33 x2cons@int_slack@0 x3cons@int_slack@0\n",
      " x3cons@int_slack@1 deadline@int_slack@0 deadline@int_slack@1\n",
      " deadline@int_slack@2\n",
      "End\n",
      "\n"
     ]
    }
   ],
   "source": [
    "int2bin = IntegerToBinary()\n",
    "qp_eq_bin = int2bin.convert(qp_eq)\n",
    "print(qp_eq_bin.export_as_lp_string())"
   ]
  },
  {
   "cell_type": "code",
   "execution_count": 8,
   "id": "liquid-optics",
   "metadata": {},
   "outputs": [
    {
     "name": "stdout",
     "output_type": "stream",
     "text": [
      "\\ This file has been generated by DOcplex\n",
      "\\ ENCODING=ISO-8859-1\n",
      "\\Problem name: CPLEX\n",
      "\n",
      "Maximize\n",
      " obj: 663 x11 + 311 x21 + 1589 x22 + 311 x31 + 929 x32 + 1586 x33\n",
      "      + 308 deadline@int_slack@0 + 616 deadline@int_slack@1\n",
      "      + 1232 deadline@int_slack@2 + [ - 220 x11^2 - 176 x11*x21 - 968 x11*x22\n",
      "      - 176 x11*x31 - 528 x11*x32 - 968 x11*x33 - 176 x11*deadline@int_slack@0\n",
      "      - 352 x11*deadline@int_slack@1 - 704 x11*deadline@int_slack@2 - 88 x21^2\n",
      "      - 352 x21*x22 - 88 x21*x31 - 264 x21*x32 - 440 x21*x33\n",
      "      - 88 x21*x2cons@int_slack@0 - 88 x21*deadline@int_slack@0\n",
      "      - 176 x21*deadline@int_slack@1 - 352 x21*deadline@int_slack@2 - 1188 x22^2\n",
      "      - 440 x22*x31 - 1320 x22*x32 - 2288 x22*x33 + 88 x22*x2cons@int_slack@0\n",
      "      - 440 x22*deadline@int_slack@0 - 880 x22*deadline@int_slack@1\n",
      "      - 1760 x22*deadline@int_slack@2 - 88 x31^2 - 352 x31*x32 - 264 x31*x33\n",
      "      - 88 x31*x3cons@int_slack@0 - 88 x31*x3cons@int_slack@1\n",
      "      - 88 x31*deadline@int_slack@0 - 176 x31*deadline@int_slack@1\n",
      "      - 352 x31*deadline@int_slack@2 - 440 x32^2 - 1144 x32*x33\n",
      "      - 88 x32*x3cons@int_slack@0 - 88 x32*x3cons@int_slack@1\n",
      "      - 264 x32*deadline@int_slack@0 - 528 x32*deadline@int_slack@1\n",
      "      - 1056 x32*deadline@int_slack@2 - 1320 x33^2 + 176 x33*x3cons@int_slack@0\n",
      "      + 176 x33*x3cons@int_slack@1 - 440 x33*deadline@int_slack@0\n",
      "      - 880 x33*deadline@int_slack@1 - 1760 x33*deadline@int_slack@2\n",
      "      - 44 x2cons@int_slack@0^2 - 44 x3cons@int_slack@0^2\n",
      "      - 88 x3cons@int_slack@0*x3cons@int_slack@1 - 44 x3cons@int_slack@1^2\n",
      "      - 44 deadline@int_slack@0^2\n",
      "      - 176 deadline@int_slack@0*deadline@int_slack@1\n",
      "      - 352 deadline@int_slack@0*deadline@int_slack@2\n",
      "      - 176 deadline@int_slack@1^2\n",
      "      - 704 deadline@int_slack@1*deadline@int_slack@2\n",
      "      - 704 deadline@int_slack@2^2 ]/2 -1100\n",
      "Subject To\n",
      "\n",
      "Bounds\n",
      " 0 <= x11 <= 1\n",
      " 0 <= x21 <= 1\n",
      " 0 <= x22 <= 1\n",
      " 0 <= x31 <= 1\n",
      " 0 <= x32 <= 1\n",
      " 0 <= x33 <= 1\n",
      " 0 <= x2cons@int_slack@0 <= 1\n",
      " 0 <= x3cons@int_slack@0 <= 1\n",
      " 0 <= x3cons@int_slack@1 <= 1\n",
      " 0 <= deadline@int_slack@0 <= 1\n",
      " 0 <= deadline@int_slack@1 <= 1\n",
      " 0 <= deadline@int_slack@2 <= 1\n",
      "\n",
      "Binaries\n",
      " x11 x21 x22 x31 x32 x33 x2cons@int_slack@0 x3cons@int_slack@0\n",
      " x3cons@int_slack@1 deadline@int_slack@0 deadline@int_slack@1\n",
      " deadline@int_slack@2\n",
      "End\n",
      "\n"
     ]
    }
   ],
   "source": [
    "lineq2penalty = LinearEqualityToPenalty()\n",
    "qubo = lineq2penalty.convert(qp_eq_bin)\n",
    "print(qubo.export_as_lp_string())"
   ]
  },
  {
   "cell_type": "code",
   "execution_count": 9,
   "id": "institutional-mother",
   "metadata": {},
   "outputs": [],
   "source": [
    "aqua_globals.random_seed = 20000\n",
    "quantum_instance = QuantumInstance(BasicAer.get_backend('qasm_simulator'), \n",
    "                                  seed_simulator=aqua_globals.random_seed, \n",
    "                                  seed_transpiler=aqua_globals.random_seed)"
   ]
  },
  {
   "cell_type": "code",
   "execution_count": 10,
   "id": "certified-treaty",
   "metadata": {},
   "outputs": [
    {
     "name": "stdout",
     "output_type": "stream",
     "text": [
      "when initial point = [-0.019568041252062837, -0.992972183877542, -1.548385218949188, 0.5860635374016467, -0.5563144925855698, -1.0476873268608553, 1.0076609293871999, 0.16578706116936234], exact_result : optimal function value: 8.0\n",
      "optimal value: [0. 1. 1. 0. 0. 0. 0. 0. 0. 1. 0. 0.]\n",
      "status: SUCCESS\n",
      "when initial point = [-0.019568041252062837, -0.992972183877542, -1.548385218949188, 0.5860635374016467, -0.5563144925855698, -1.0476873268608553, 1.0076609293871999, 0.16578706116936234], qaoa_result : optimal function value: 5.0\n",
      "optimal value: [0. 0. 1. 0. 0. 0. 1. 0. 0. 0. 1. 0.]\n",
      "status: SUCCESS\n",
      "when initial point = [-1.4277183620679954, 0.6539863222876424, -0.04372667157366568, 1.5955065084187778, 0.0467287938372982, 0.5149682091311665, 0.33910793216016516, -1.7435907775730812], exact_result : optimal function value: 8.0\n",
      "optimal value: [0. 1. 1. 0. 0. 0. 0. 0. 0. 1. 0. 0.]\n",
      "status: SUCCESS\n",
      "when initial point = [-1.4277183620679954, 0.6539863222876424, -0.04372667157366568, 1.5955065084187778, 0.0467287938372982, 0.5149682091311665, 0.33910793216016516, -1.7435907775730812], qaoa_result : optimal function value: 8.0\n",
      "optimal value: [0. 1. 1. 0. 0. 0. 0. 0. 0. 1. 0. 0.]\n",
      "status: SUCCESS\n",
      "when initial point = [-0.6825282206639723, -0.42504760295424426, -0.09083050326230648, 0.17568689200990217, -1.9526032615431765, 0.4966089217063483, -1.2563982376096463, -0.0921230022827146], exact_result : optimal function value: 8.0\n",
      "optimal value: [0. 1. 1. 0. 0. 0. 0. 0. 0. 1. 0. 0.]\n",
      "status: SUCCESS\n",
      "when initial point = [-0.6825282206639723, -0.42504760295424426, -0.09083050326230648, 0.17568689200990217, -1.9526032615431765, 0.4966089217063483, -1.2563982376096463, -0.0921230022827146], qaoa_result : optimal function value: 5.0\n",
      "optimal value: [0. 0. 0. 1. 0. 1. 0. 1. 0. 1. 0. 0.]\n",
      "status: SUCCESS\n",
      "when initial point = [-2.603241712620077, 0.9123199833273715, 1.11690906442388, -0.9300013411610353, 1.3305036232775909, 0.8014883930578192, -0.39075320098044514, -0.30112657583393376], exact_result : optimal function value: 8.0\n",
      "optimal value: [0. 1. 1. 0. 0. 0. 0. 0. 0. 1. 0. 0.]\n",
      "status: SUCCESS\n",
      "when initial point = [-2.603241712620077, 0.9123199833273715, 1.11690906442388, -0.9300013411610353, 1.3305036232775909, 0.8014883930578192, -0.39075320098044514, -0.30112657583393376], qaoa_result : optimal function value: 8.0\n",
      "optimal value: [0. 1. 1. 0. 0. 0. 0. 0. 0. 1. 0. 0.]\n",
      "status: SUCCESS\n",
      "when initial point = [-0.1698347580808819, 0.4326301873465746, 1.5528287673534744, -0.8521482814419878, 0.47305269780611175, -0.5836913311570442, -1.1983850241738232, 0.39581539326339327], exact_result : optimal function value: 8.0\n",
      "optimal value: [0. 1. 1. 0. 0. 0. 0. 0. 0. 1. 0. 0.]\n",
      "status: SUCCESS\n",
      "when initial point = [-0.1698347580808819, 0.4326301873465746, 1.5528287673534744, -0.8521482814419878, 0.47305269780611175, -0.5836913311570442, -1.1983850241738232, 0.39581539326339327], qaoa_result : optimal function value: 5.0\n",
      "optimal value: [0. 0. 0. 1. 0. 1. 0. 0. 1. 1. 0. 0.]\n",
      "status: SUCCESS\n",
      "when initial point = [1.068575973795911, -0.8577628022060815, 0.23142177518314783, 0.1556943828707596, 1.7373173762818348, 0.9619216129111594, -0.8363678416212296, -1.5949586510947926], exact_result : optimal function value: 8.0\n",
      "optimal value: [0. 1. 1. 0. 0. 0. 0. 0. 0. 1. 0. 0.]\n",
      "status: SUCCESS\n",
      "when initial point = [1.068575973795911, -0.8577628022060815, 0.23142177518314783, 0.1556943828707596, 1.7373173762818348, 0.9619216129111594, -0.8363678416212296, -1.5949586510947926], qaoa_result : optimal function value: -15.0\n",
      "optimal value: [0. 0. 0. 0. 1. 1. 0. 1. 0. 0. 0. 0.]\n",
      "status: SUCCESS\n",
      "when initial point = [0.9884168306689994, -0.9393481353858361, 1.273639479393323, -1.3644285462176087, 0.13926872574982602, 1.8271167824949284, -1.461841768367255, 0.5520699878758873], exact_result : optimal function value: 8.0\n",
      "optimal value: [0. 1. 1. 0. 0. 0. 0. 0. 0. 1. 0. 0.]\n",
      "status: SUCCESS\n",
      "when initial point = [0.9884168306689994, -0.9393481353858361, 1.273639479393323, -1.3644285462176087, 0.13926872574982602, 1.8271167824949284, -1.461841768367255, 0.5520699878758873], qaoa_result : optimal function value: 5.0\n",
      "optimal value: [0. 0. 1. 0. 0. 0. 1. 0. 0. 0. 1. 0.]\n",
      "status: SUCCESS\n"
     ]
    }
   ],
   "source": [
    "#sensitivity analysis, initial point\n",
    "\n",
    "ip_list = []\n",
    "\n",
    "for a in range(7):\n",
    "    temp = list(np.random.randn(8))\n",
    "    ip_list.append(temp)\n",
    "\n",
    "for _, List in enumerate(ip_list):\n",
    "    qaoa_mes = QAOA(quantum_instance=quantum_instance, p=4, initial_point=List)\n",
    "    exact_mes = NumPyMinimumEigensolver()\n",
    "    qaoa = MinimumEigenOptimizer(qaoa_mes)\n",
    "    exact = MinimumEigenOptimizer(exact_mes)\n",
    "    qaoa_result = qaoa.solve(qubo)\n",
    "    exact_result = exact.solve(qubo)\n",
    "    print(f'when initial point = {List}, exact_result : {exact_result}')\n",
    "    print(f'when initial point = {List}, qaoa_result : {qaoa_result}')"
   ]
  },
  {
   "cell_type": "code",
   "execution_count": 11,
   "id": "framed-isaac",
   "metadata": {},
   "outputs": [
    {
     "name": "stdout",
     "output_type": "stream",
     "text": [
      "offset: 1122.5\n",
      "operator:\n",
      "SummedOp([\n",
      "  -229.5 * IIIIIIIIIIIZ,\n",
      "  -119.5 * IIIIIIIIIIZI,\n",
      "  -547.5 * IIIIIIIIIZII,\n",
      "  -130.5 * IIIIIIIIZIII,\n",
      "  -349.5 * IIIIIIIZIIII,\n",
      "  -516.0 * IIIIIIZIIIII,\n",
      "  -110.0 * IIZIIIIIIIII,\n",
      "  -220.0 * IZIIIIIIIIII,\n",
      "  -440.0 * ZIIIIIIIIIII,\n",
      "  22.0 * IIIIIIIIIIZZ,\n",
      "  121.0 * IIIIIIIIIZIZ,\n",
      "  44.0 * IIIIIIIIIZZI,\n",
      "  22.0 * IIIIIIIIZIIZ,\n",
      "  11.0 * IIIIIIIIZIZI,\n",
      "  55.0 * IIIIIIIIZZII,\n",
      "  66.0 * IIIIIIIZIIIZ,\n",
      "  33.0 * IIIIIIIZIIZI,\n",
      "  165.0 * IIIIIIIZIZII,\n",
      "  44.0 * IIIIIIIZZIII,\n",
      "  121.0 * IIIIIIZIIIIZ,\n",
      "  55.0 * IIIIIIZIIIZI,\n",
      "  286.0 * IIIIIIZIIZII,\n",
      "  33.0 * IIIIIIZIZIII,\n",
      "  143.0 * IIIIIIZZIIII,\n",
      "  11.0 * IIIIIZIIIIZI,\n",
      "  -11.0 * IIIIIZIIIIII,\n",
      "  -11.0 * IIIIIZIIIZII,\n",
      "  11.0 * IIIIZIIIZIII,\n",
      "  -22.0 * IIIIZIIIIIII,\n",
      "  11.0 * IIIIZIIZIIII,\n",
      "  -22.0 * IIIIZIZIIIII,\n",
      "  11.0 * IIIZIIIIZIII,\n",
      "  -22.0 * IIIZIIIIIIII,\n",
      "  11.0 * IIIZIIIZIIII,\n",
      "  -22.0 * IIIZIIZIIIII,\n",
      "  11.0 * IIIZZIIIIIII,\n",
      "  22.0 * IIZIIIIIIIIZ,\n",
      "  11.0 * IIZIIIIIIIZI,\n",
      "  55.0 * IIZIIIIIIZII,\n",
      "  11.0 * IIZIIIIIZIII,\n",
      "  33.0 * IIZIIIIZIIII,\n",
      "  55.0 * IIZIIIZIIIII,\n",
      "  44.0 * IZIIIIIIIIIZ,\n",
      "  22.0 * IZIIIIIIIIZI,\n",
      "  110.0 * IZIIIIIIIZII,\n",
      "  22.0 * IZIIIIIIZIII,\n",
      "  66.0 * IZIIIIIZIIII,\n",
      "  110.0 * IZIIIIZIIIII,\n",
      "  22.0 * IZZIIIIIIIII,\n",
      "  88.0 * ZIIIIIIIIIIZ,\n",
      "  44.0 * ZIIIIIIIIIZI,\n",
      "  220.0 * ZIIIIIIIIZII,\n",
      "  44.0 * ZIIIIIIIZIII,\n",
      "  132.0 * ZIIIIIIZIIII,\n",
      "  220.0 * ZIIIIIZIIIII,\n",
      "  44.0 * ZIZIIIIIIIII,\n",
      "  88.0 * ZZIIIIIIIIII\n",
      "])\n"
     ]
    }
   ],
   "source": [
    "# to_ising\n",
    "\n",
    "op, offset = qubo.to_ising()\n",
    "print('offset: {}'.format(offset))\n",
    "print('operator:')\n",
    "print(op)"
   ]
  },
  {
   "cell_type": "code",
   "execution_count": 12,
   "id": "assumed-error",
   "metadata": {},
   "outputs": [],
   "source": [
    "#VQE using CVaR\n",
    "\n",
    "maxiter = 60\n",
    "optimizer = COBYLA(maxiter=maxiter)\n",
    "\n",
    "var_form = RealAmplitudes(op.num_qubits, reps=1)\n",
    "m = var_form.num_parameters\n",
    "\n",
    "backend_name = 'qasm_simulator'\n",
    "backend = Aer.get_backend(backend_name)\n",
    "\n",
    "alphas = [0.75, 0.50, 0.25, 0.2, 0.125]"
   ]
  },
  {
   "cell_type": "code",
   "execution_count": 13,
   "id": "plastic-omaha",
   "metadata": {},
   "outputs": [
    {
     "name": "stdout",
     "output_type": "stream",
     "text": [
      "alpha = 0.75\n",
      "optimal function value: 3.0\n",
      "optimal value: [1. 0. 0. 0. 0. 0. 0. 0. 0. 1. 0. 1.]\n",
      "status: SUCCESS\n",
      "\n",
      "alpha = 0.5\n",
      "optimal function value: 5.0\n",
      "optimal value: [0. 0. 0. 1. 0. 1. 0. 1. 0. 1. 0. 0.]\n",
      "status: SUCCESS\n",
      "\n",
      "alpha = 0.25\n",
      "optimal function value: 5.0\n",
      "optimal value: [0. 0. 1. 0. 0. 0. 1. 0. 0. 0. 1. 0.]\n",
      "status: SUCCESS\n",
      "\n",
      "alpha = 0.2\n",
      "optimal function value: 5.0\n",
      "optimal value: [0. 0. 0. 1. 0. 1. 0. 1. 0. 1. 0. 0.]\n",
      "status: SUCCESS\n",
      "\n",
      "alpha = 0.125\n",
      "optimal function value: -14.0\n",
      "optimal value: [0. 0. 1. 1. 0. 0. 1. 0. 0. 1. 0. 0.]\n",
      "status: SUCCESS\n",
      "\n"
     ]
    }
   ],
   "source": [
    "\n",
    "objectives = {alpha: [] for alpha in alphas}\n",
    "results = {}\n",
    "\n",
    "def callback(i, params, obj, stddev, alpha):\n",
    "    objectives[alpha] += [-(obj + offset)]\n",
    "\n",
    "for alpha in alphas:\n",
    "    \n",
    "    cvar_exp = CVaRExpectation(alpha, PauliExpectation())\n",
    "    cvar_exp.compute_variance = lambda x: [0]\n",
    "    \n",
    "    vqe = VQE(expectation=cvar_exp, optimizer=optimizer, var_form=var_form,\n",
    "              quantum_instance=backend, callback=lambda i, params, obj, stddev: callback(i, params, obj, stddev, alpha))\n",
    "    \n",
    "    opt_alg = MinimumEigenOptimizer(vqe)\n",
    "    \n",
    "    results[alpha] = opt_alg.solve(qubo)\n",
    "    \n",
    "    print(f'alpha = {alpha}')\n",
    "    print(results[alpha])\n",
    "    print()"
   ]
  },
  {
   "cell_type": "code",
   "execution_count": 14,
   "id": "political-design",
   "metadata": {},
   "outputs": [
    {
     "data": {
      "image/png": "[encoded data removed]",
      "text/plain": [
       "<Figure size 432x288 with 1 Axes>"
      ]
     },
     "metadata": {
      "needs_background": "light"
     },
     "output_type": "display_data"
    }
   ],
   "source": [
    "\n",
    "plt.plot([0, maxiter], [exact_result.fval, exact_result.fval], 'r--', linewidth=2, label='optimum')\n",
    "for alpha in alphas:\n",
    "    plt.plot(objectives[alpha], label='alpha = %.2f' % alpha, linewidth=2)\n",
    "plt.legend(loc='lower right', fontsize=14)\n",
    "plt.xlim(0, maxiter)\n",
    "plt.xticks(fontsize=14)\n",
    "plt.xlabel('iterations', fontsize=14)\n",
    "plt.yticks(fontsize=14)\n",
    "plt.ylabel('objective value', fontsize=14)\n",
    "plt.show()"
   ]
  },
  {
   "cell_type": "markdown",
   "id": "second-future",
   "metadata": {},
   "source": [
    "## Conclusion\n",
    "There are many __NP-HARD__ problems in real world. Any computer, even a supercomputer, can solve these problems. It is impossible to get exact solution. But if we don't have to get the best solution, if we can be satisfied with optimized solution, we can get a solution faster. Still, for large data, some optimization algorithm are slow. In this case quantum computing can be a solution. Using quantum speedup, one can get optimized solution in reasonable time."
   ]
  },
  {
   "cell_type": "markdown",
   "id": "every-disorder",
   "metadata": {},
   "source": [
    "## Appendix : DRM is NP-HARD\n",
    "We will follow the step that the paper shows. Suppose there is no weight and deadline is constant. Then it is a special case of __DRM__. This problem is described as\n",
    "\n",
    "Maximize $c(v_i)$\n",
    "\n",
    "Subject to\n",
    "\n",
    "$\\sum t(v_i) \\leq D$\n",
    "\n",
    "Remember knapsack problem. The bag has limited weight and you want to maximize value.\n",
    "\n",
    "Maximize $v(x_i)$\n",
    "\n",
    "Subject to\n",
    "\n",
    "$\\sum w(x_i) \\leq W$\n",
    "\n",
    "As you can check two are equivalent. Since __knapsack problem__ is __NP-HARD__ problem, so is __DRM__."
   ]
  },
  {
   "cell_type": "code",
   "execution_count": 15,
   "id": "anticipated-training",
   "metadata": {},
   "outputs": [],
   "source": [
    "#Import packages about qiskit\n",
    "from qiskit import BasicAer\n",
    "from qiskit.aqua import aqua_globals, QuantumInstance\n",
    "from qiskit.aqua.algorithms import QAOA, NumPyMinimumEigensolver\n",
    "from qiskit.optimization.algorithms import MinimumEigenOptimizer, RecursiveMinimumEigenOptimizer\n",
    "from qiskit.optimization import QuadraticProgram"
   ]
  },
  {
   "cell_type": "code",
   "execution_count": 16,
   "id": "enhanced-gather",
   "metadata": {},
   "outputs": [
    {
     "name": "stdout",
     "output_type": "stream",
     "text": [
      "\\ This file has been generated by DOcplex\n",
      "\\ ENCODING=ISO-8859-1\n",
      "\\Problem name: knapsack\n",
      "\n",
      "Maximize\n",
      " obj: 40 Item_#0 + 25 Item_#1 + 40 Item_#2 + 20 Item_#3 + 60 Item_#4\n",
      "Subject To\n",
      " Weight_limit: 40 Item_#0 + 90 Item_#1 + 120 Item_#2 + 100 Item_#3 + 200 Item_#4\n",
      "                <= 300\n",
      "\n",
      "Bounds\n",
      " 0 <= Item_#0 <= 1\n",
      " 0 <= Item_#1 <= 1\n",
      " 0 <= Item_#2 <= 1\n",
      " 0 <= Item_#3 <= 1\n",
      " 0 <= Item_#4 <= 1\n",
      "\n",
      "Binaries\n",
      " Item_#0 Item_#1 Item_#2 Item_#3 Item_#4\n",
      "End\n",
      "\n"
     ]
    }
   ],
   "source": [
    "from docplex.mp.model import Model\n",
    "model = Model(name='knapsack')\n",
    "\n",
    "#Define the number of items\n",
    "numOfItem=5\n",
    "\n",
    "#Define variable which represent whether item is in bag or not.\n",
    "isUsed = [model.binary_var(name='Item #'+str(i)) for i in range(numOfItem)]\n",
    "\n",
    "#Weight and cost for each item\n",
    "weight = [40,90,120,100,200]\n",
    "cost = [40,25,40,20,60]\n",
    "\n",
    "weightLimit = 300\n",
    "\n",
    "model.add_constraint(sum([isUsed[i]*weight[i] for i in range(numOfItem)])-weightLimit<=0,'Weight limit')\n",
    "model.maximize(sum([isUsed[i]*cost[i] for i in range(numOfItem)]))\n",
    "print(model.export_as_lp_string())"
   ]
  },
  {
   "cell_type": "code",
   "execution_count": 17,
   "id": "confidential-poker",
   "metadata": {},
   "outputs": [],
   "source": [
    "def compareQE(model):\n",
    "    aqua_globals.random_seed = 10598\n",
    "    quantum_instance = QuantumInstance(BasicAer.get_backend('qasm_simulator'),\n",
    "                                   seed_simulator=aqua_globals.random_seed,\n",
    "                                   seed_transpiler=aqua_globals.random_seed)\n",
    "    qaoa_mes = QAOA(quantum_instance=quantum_instance, initial_point=[0., 0.])\n",
    "    qaoa = MinimumEigenOptimizer(qaoa_mes)\n",
    "    qaoa_result = qaoa.solve(mod)\n",
    "    print('QAOA result')\n",
    "    print(qaoa_result)\n",
    "    exact_mes = NumPyMinimumEigensolver()\n",
    "    exact = MinimumEigenOptimizer(exact_mes)\n",
    "    exact_result = exact.solve(mod)\n",
    "    print('Exact result')\n",
    "    print(exact_result)"
   ]
  },
  {
   "cell_type": "code",
   "execution_count": 18,
   "id": "cheap-process",
   "metadata": {},
   "outputs": [
    {
     "name": "stdout",
     "output_type": "stream",
     "text": [
      "QAOA result\n",
      "optimal function value: 105.0\n",
      "optimal value: [1. 1. 1. 0. 0.]\n",
      "status: SUCCESS\n",
      "Exact result\n",
      "optimal function value: 105.0\n",
      "optimal value: [1. 1. 1. 0. 0.]\n",
      "status: SUCCESS\n"
     ]
    }
   ],
   "source": [
    "#Change to use qiskit\n",
    "mod = QuadraticProgram()\n",
    "mod.from_docplex(model)\n",
    "compareQE(mod)"
   ]
  },
  {
   "cell_type": "markdown",
   "id": "substantial-lancaster",
   "metadata": {},
   "source": [
    "## Reference\n",
    "[1] Chuanwen Luo, Deying Li, Xingjian Ding, Weili Wu, __*Delivery Route Optimization with automated vehicle in smart urban environment*__, Theoretical Computer Science 836(2020), 42-52\n",
    "\n",
    "[2] Edward Farhi, Jeffrey Goldstone, Sam Gutmann, __*A Quantum Approximate Optimization Algorithm*__, arXiv:1411.4028"
   ]
  },
  {
   "cell_type": "code",
   "execution_count": null,
   "id": "permanent-syndrome",
   "metadata": {},
   "outputs": [],
   "source": []
  }
 ],
 "metadata": {
  "kernelspec": {
   "display_name": "conda_braket",
   "language": "python",
   "name": "conda_braket"
  },
  "language_info": {
   "codemirror_mode": {
    "name": "ipython",
    "version": 3
   },
   "file_extension": ".py",
   "mimetype": "text/x-python",
   "name": "python",
   "nbconvert_exporter": "python",
   "pygments_lexer": "ipython3",
   "version": "3.7.9"
  }
 },
 "nbformat": 4,
 "nbformat_minor": 5
}
