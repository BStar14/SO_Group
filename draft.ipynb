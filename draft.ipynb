{
 "cells": [
  {
   "cell_type": "markdown",
   "id": "italian-tennis",
   "metadata": {},
   "source": [
    "# Solving Optimization Problem with Qiskit"
   ]
  },
  {
   "cell_type": "markdown",
   "id": "focal-affairs",
   "metadata": {},
   "source": [
    "## Team name : SO(3)\n",
    "It means ...\n",
    "\n",
    "### Team members\n",
    "Kim BoSeong\n",
    "\n",
    "Choi KwangJun\n",
    "\n",
    "Kim HeeKang\n",
    "\n",
    "Choi JaeWon"
   ]
  },
  {
   "cell_type": "markdown",
   "id": "tested-costa",
   "metadata": {},
   "source": [
    "## Delivery Reward Maximization\n",
    "__Delivery Reward Maximization(DRM)__ is a optimization problem. Suppose there are customers who want your goods. But you have limited time. Customers don't wait forever. Then how can you maximize your profit? __DRM__ will give you an answer.\n",
    "\n",
    "Let $V=\\{v_1,v_2,\\cdots,v_n\\}$ be the nodes, the customers and $v_0$ be your store. Each customer has deadline $d(v_i)$ and reword $c(v_i)$. Your vehicle's speed is $s$. Path is denoted as edge. Weights of egdes $w(e_i,e_j)$ represent distance. There is also service time $t(v_i)$ that may represent the time needed to pass the goods. In this project, we consider a special case called __LDRM(Line Delivery Reward Maximization)__."
   ]
  },
  {
   "cell_type": "markdown",
   "id": "cleared-feeling",
   "metadata": {},
   "source": [
    "## Into a real problem\n",
    "Suppose the depot is in Incheon. You may deliver you goods by airplane. Since your goods require extremly cold environment, there is few airplane that can carry your goods. In this case, assume that only one airplane is available. Customers are in Shanghai, Hanoi and Suvarnabhmi. Roughly speaking, they are in a line fortunately. So this problem can be converted into __LDRM__."
   ]
  },
  {
   "cell_type": "code",
   "execution_count": 24,
   "id": "hollywood-worth",
   "metadata": {},
   "outputs": [],
   "source": [
    "#Import packages about qiskit\n",
    "from qiskit import BasicAer\n",
    "from qiskit.aqua import aqua_globals, QuantumInstance\n",
    "from qiskit.aqua.algorithms import QAOA, NumPyMinimumEigensolver\n",
    "from qiskit.optimization.algorithms import MinimumEigenOptimizer, RecursiveMinimumEigenOptimizer\n",
    "from qiskit.optimization import QuadraticProgram"
   ]
  },
  {
   "cell_type": "code",
   "execution_count": 11,
   "id": "genuine-juice",
   "metadata": {},
   "outputs": [],
   "source": [
    "#Import packages to visualization\n",
    "from ipyleaflet import Map, AntPath, Marker\n",
    "from itertools import combinations"
   ]
  },
  {
   "cell_type": "code",
   "execution_count": 46,
   "id": "adjusted-assessment",
   "metadata": {
    "scrolled": true
   },
   "outputs": [
    {
     "data": {
      "application/vnd.jupyter.widget-view+json": {
       "model_id": "9e6800c2a681464eb33c6b03a0a3ec44",
       "version_major": 2,
       "version_minor": 0
      },
      "text/plain": [
       "Map(center=[25.5, 122.037], controls=(ZoomControl(options=['position', 'zoom_in_text', 'zoom_in_title', 'zoom_…"
      ]
     },
     "metadata": {},
     "output_type": "display_data"
    }
   ],
   "source": [
    "#Instanciate map\n",
    "m = Map(center=(25.500, 122.037), zoom=3)\n",
    "\n",
    "#Longitude and latitude of airports\n",
    "locations = {\"INCHEON\" : (37.46035,126.44061),\"HANOI\" : (21.21791,105.78959),\"SHANGHAI\" : (31.19992,121.33644),\"SUVARNABHMI\":(13.69036,100.74884)}\n",
    "for location in locations.values():\n",
    "    m.add_layer(Marker(location=location, draggable=False));\n",
    "    \n",
    "#Add pathes\n",
    "for twoPoints in combinations(locations.values(),2):\n",
    "    m.add_layer(AntPath(locations=\n",
    "            [(twoPoints[0][0]+(twoPoints[1][0]-twoPoints[0][0])*i/10,twoPoints[0][1]+(twoPoints[1][1]-twoPoints[0][1])*i/10 ) for i in range(10)]\n",
    "            ,dash_array=[1, 10],delay=1000,color='#7590ba',pulse_color='#3f6fba'))\n",
    "\n",
    "\n",
    "m"
   ]
  },
  {
   "cell_type": "markdown",
   "id": "original-weekend",
   "metadata": {},
   "source": [
    "## DRM is NP-HARD\n",
    "We will follow the step that the paper shows. Suppose there is no weight and deadline is constant. Then it is a special case of __DRM__. This problem is described as\n",
    "\n",
    "Maximize $c(v_i)$\n",
    "\n",
    "Subject to\n",
    "\n",
    "$\\sum t(v_i) \\leq D$\n",
    "\n",
    "Remember knapsack problem. The bag has limited weight and you want to maximize value.\n",
    "\n",
    "Maximize $v(x_i)$\n",
    "\n",
    "Subject to\n",
    "\n",
    "$\\sum w(x_i) \\leq W$\n",
    "\n",
    "As you can check two are equivalent. Since __knapsack problem__ is __NP-HARD__ problem, so is __DRM__."
   ]
  },
  {
   "cell_type": "code",
   "execution_count": 55,
   "id": "expired-cliff",
   "metadata": {},
   "outputs": [
    {
     "name": "stdout",
     "output_type": "stream",
     "text": [
      "\\ This file has been generated by DOcplex\n",
      "\\ ENCODING=ISO-8859-1\n",
      "\\Problem name: knapsack\n",
      "\n",
      "Maximize\n",
      " obj: 40 Item_#0 + 25 Item_#1 + 40 Item_#2 + 20 Item_#3 + 60 Item_#4\n",
      "Subject To\n",
      " Weight_limit: 40 Item_#0 + 90 Item_#1 + 120 Item_#2 + 100 Item_#3 + 200 Item_#4\n",
      "                <= 300\n",
      "\n",
      "Bounds\n",
      " 0 <= Item_#0 <= 1\n",
      " 0 <= Item_#1 <= 1\n",
      " 0 <= Item_#2 <= 1\n",
      " 0 <= Item_#3 <= 1\n",
      " 0 <= Item_#4 <= 1\n",
      "\n",
      "Binaries\n",
      " Item_#0 Item_#1 Item_#2 Item_#3 Item_#4\n",
      "End\n",
      "\n"
     ]
    }
   ],
   "source": [
    "from docplex.mp.model import Model\n",
    "model = Model(name='knapsack')\n",
    "\n",
    "#Define the number of items\n",
    "numOfItem=5\n",
    "\n",
    "#Define variable which represent whether item is in bag or not.\n",
    "isUsed = [model.binary_var(name='Item #'+str(i)) for i in range(numOfItem)]\n",
    "\n",
    "#Weight and cost for each item\n",
    "weight = [40,90,120,100,200]\n",
    "cost = [40,25,40,20,60]\n",
    "\n",
    "weightLimit = 300\n",
    "\n",
    "model.add_constraint(sum([isUsed[i]*weight[i] for i in range(numOfItem)])-weightLimit<=0,'Weight limit')\n",
    "model.maximize(sum([isUsed[i]*cost[i] for i in range(numOfItem)]))\n",
    "print(model.export_as_lp_string())"
   ]
  },
  {
   "cell_type": "code",
   "execution_count": 56,
   "id": "mathematical-ceremony",
   "metadata": {},
   "outputs": [
    {
     "name": "stdout",
     "output_type": "stream",
     "text": [
      "105.0\n",
      "integer optimal solution\n"
     ]
    }
   ],
   "source": [
    "model.solve()\n",
    "print(model.objective_value)\n",
    "print(model.solve_details.status)"
   ]
  },
  {
   "cell_type": "code",
   "execution_count": 57,
   "id": "interpreted-pennsylvania",
   "metadata": {},
   "outputs": [],
   "source": [
    "from qiskit.optimization import QuadraticProgram"
   ]
  },
  {
   "cell_type": "code",
   "execution_count": 58,
   "id": "collective-hopkins",
   "metadata": {},
   "outputs": [
    {
     "name": "stdout",
     "output_type": "stream",
     "text": [
      "\\ This file has been generated by DOcplex\n",
      "\\ ENCODING=ISO-8859-1\n",
      "\\Problem name: knapsack\n",
      "\n",
      "Maximize\n",
      " obj: 40 Item_#0 + 25 Item_#1 + 40 Item_#2 + 20 Item_#3 + 60 Item_#4\n",
      "Subject To\n",
      " Weight_limit: 40 Item_#0 + 90 Item_#1 + 120 Item_#2 + 100 Item_#3 + 200 Item_#4\n",
      "                <= 300\n",
      "\n",
      "Bounds\n",
      " 0 <= Item_#0 <= 1\n",
      " 0 <= Item_#1 <= 1\n",
      " 0 <= Item_#2 <= 1\n",
      " 0 <= Item_#3 <= 1\n",
      " 0 <= Item_#4 <= 1\n",
      "\n",
      "Binaries\n",
      " Item_#0 Item_#1 Item_#2 Item_#3 Item_#4\n",
      "End\n",
      "\n"
     ]
    }
   ],
   "source": [
    "# load from a Docplex model\n",
    "mod = QuadraticProgram()\n",
    "mod.from_docplex(model)\n",
    "print(mod.export_as_lp_string())"
   ]
  },
  {
   "cell_type": "code",
   "execution_count": 59,
   "id": "public-reality",
   "metadata": {},
   "outputs": [],
   "source": [
    "aqua_globals.random_seed = 10598\n",
    "quantum_instance = QuantumInstance(BasicAer.get_backend('qasm_simulator'),\n",
    "                                   seed_simulator=aqua_globals.random_seed,\n",
    "                                   seed_transpiler=aqua_globals.random_seed)\n",
    "qaoa_mes = QAOA(quantum_instance=quantum_instance, initial_point=[0., 0.])"
   ]
  },
  {
   "cell_type": "code",
   "execution_count": 60,
   "id": "surrounded-chinese",
   "metadata": {},
   "outputs": [],
   "source": [
    "qaoa = MinimumEigenOptimizer(qaoa_mes)"
   ]
  },
  {
   "cell_type": "code",
   "execution_count": 61,
   "id": "social-burner",
   "metadata": {},
   "outputs": [
    {
     "name": "stdout",
     "output_type": "stream",
     "text": [
      "optimal function value: 105.0\n",
      "optimal value: [1. 1. 1. 0. 0.]\n",
      "status: SUCCESS\n"
     ]
    }
   ],
   "source": [
    "qaoa_result = qaoa.solve(mod)\n",
    "print(qaoa_result)"
   ]
  },
  {
   "cell_type": "code",
   "execution_count": 62,
   "id": "amended-holder",
   "metadata": {},
   "outputs": [
    {
     "name": "stdout",
     "output_type": "stream",
     "text": [
      "optimal function value: 105.0\n",
      "optimal value: [1. 1. 1. 0. 0.]\n",
      "status: SUCCESS\n"
     ]
    }
   ],
   "source": [
    "exact_mes = NumPyMinimumEigensolver()\n",
    "exact = MinimumEigenOptimizer(exact_mes)\n",
    "exact_result = exact.solve(mod)\n",
    "print(exact_result)"
   ]
  },
  {
   "cell_type": "markdown",
   "id": "through-concentrate",
   "metadata": {},
   "source": [
    "## Reference\n",
    "[1] Chuanwen Luo, Deying Li, Xingjian Ding, Weili Wu, __*Delivery Route Optimization with automated vehicle in smart urban environment*__, Theoretical Computer Science 836(2020), 42-52"
   ]
  },
  {
   "cell_type": "code",
   "execution_count": null,
   "id": "effective-calvin",
   "metadata": {},
   "outputs": [],
   "source": []
  }
 ],
 "metadata": {
  "kernelspec": {
   "display_name": "conda_braket",
   "language": "python",
   "name": "conda_braket"
  },
  "language_info": {
   "codemirror_mode": {
    "name": "ipython",
    "version": 3
   },
   "file_extension": ".py",
   "mimetype": "text/x-python",
   "name": "python",
   "nbconvert_exporter": "python",
   "pygments_lexer": "ipython3",
   "version": "3.7.9"
  }
 },
 "nbformat": 4,
 "nbformat_minor": 5
}
